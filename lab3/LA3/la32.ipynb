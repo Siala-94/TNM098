{
 "cells": [
  {
   "attachments": {},
   "cell_type": "markdown",
   "metadata": {},
   "source": [
    "# Task 2\n",
    "comparing text to see what text is plagiarised. \n",
    "lab consists of 10 text files where 2 text files have plagiarised.\n",
    "\n",
    "1. Remove the punctuation using a linear replacement and convert the sentences into single lines of\n",
    "text. Also, convert everything to upper or lower case.\n",
    "2. Analyse the files to create a word list (a hashed dictionary) replacing the words with numerical\n",
    "values of the word positions in the list.\n",
    "3. Linked lists are the ideal mechanism for creating this dictionary\n",
    "4. Compare the numerical sentence"
   ]
  },
  {
   "cell_type": "code",
   "execution_count": 2,
   "metadata": {},
   "outputs": [
    {
     "name": "stdout",
     "output_type": "stream",
     "text": [
      "Plagiarized content found between 2.txt and 6.txt, section 5, matching sentences:\n",
      "over 195 poundsa good deal of it around the middle\n",
      "\n",
      "Plagiarized content found between 2.txt and 8.txt, section 7, matching sentences:\n",
      "out of the house for having come without my invitation\n",
      "\n"
     ]
    }
   ],
   "source": [
    "import os\n",
    "import string\n",
    "from sklearn.feature_extraction.text import TfidfVectorizer\n",
    "from sklearn.metrics.pairwise import cosine_similarity\n",
    "\n",
    "# Define the path to the directory containing the files\n",
    "path = \"Lab3.2\"\n",
    "texts = []\n",
    "\n",
    "# Loop through all 10 files\n",
    "for i in range(1, 11):\n",
    "    # Create the filename\n",
    "    filename = os.path.join(path, f\"{i:02}.txt\")  # uses zero-padding for single digit numbers\n",
    "    \n",
    "    # Open the file and read its contents\n",
    "    with open(filename, \"r\") as file:\n",
    "        # Add the contents to the list of texts\n",
    "        contents = file.read()\n",
    "    \n",
    "    # Remove punctuation, convert to lowercase, and convert each sentence to a single line of text\n",
    "    contents = contents.translate(str.maketrans('', '', string.punctuation))\n",
    "    contents = contents.lower()\n",
    "    contents = contents.replace('\\n', ' ')\n",
    "    \n",
    "    # Add the contents to the list of texts\n",
    "    texts.append(contents)\n",
    "\n",
    "# Create a TfidfVectorizer object to generate feature vectors for the texts\n",
    "vectorizer = TfidfVectorizer()\n",
    "feature_vectors = vectorizer.fit_transform(texts)\n",
    "\n",
    "# Compute the cosine similarity between the feature vectors of the texts\n",
    "similarity_matrix = cosine_similarity(feature_vectors)\n",
    "\n",
    "# Iterate through the similarity matrix to find plagiarized sections\n",
    "for i in range(len(texts)):\n",
    "    for j in range(i+1, len(texts)):\n",
    "        # Find the indices of the highest similarity scores\n",
    "        indices = similarity_matrix[i].argsort()[::-1][:10]\n",
    "        # Iterate through the indices and check for plagiarized sections\n",
    "        for index in indices:\n",
    "            if index == j:\n",
    "                # Find the longest common sentence of words between the two texts\n",
    "                words1 = texts[i].split()\n",
    "                words2 = texts[j].split()\n",
    "                lcs = ''\n",
    "                for k in range(len(words1)):\n",
    "                    if words1[k:k+10] in [words2[l:l+10] for l in range(len(words2)-10)]:\n",
    "                        lcs = ' '.join(words1[k:k+10])\n",
    "                \n",
    "                if lcs:\n",
    "                    lcs = lcs.replace(',', '\\n')  # Replace commas with new lines\n",
    "                    # Print the plagiarized section to the console\n",
    "                    print(f\"Plagiarized content found between {i+1}.txt and {j+1}.txt, section {index}, matching sentences:\\n{lcs}\\n\")\n"
   ]
  },
  {
   "cell_type": "code",
   "execution_count": null,
   "metadata": {},
   "outputs": [],
   "source": []
  }
 ],
 "metadata": {
  "kernelspec": {
   "display_name": "Python 3",
   "language": "python",
   "name": "python3"
  },
  "language_info": {
   "codemirror_mode": {
    "name": "ipython",
    "version": 3
   },
   "file_extension": ".py",
   "mimetype": "text/x-python",
   "name": "python",
   "nbconvert_exporter": "python",
   "pygments_lexer": "ipython3",
   "version": "3.10.6"
  },
  "orig_nbformat": 4,
  "vscode": {
   "interpreter": {
    "hash": "aee8b7b246df8f9039afb4144a1f6fd8d2ca17a180786b69acc140d282b71a49"
   }
  }
 },
 "nbformat": 4,
 "nbformat_minor": 2
}
