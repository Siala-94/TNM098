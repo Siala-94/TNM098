{
 "cells": [
  {
   "attachments": {},
   "cell_type": "markdown",
   "metadata": {},
   "source": [
    "# Task 2\n",
    "comparing text to see what text is plagiarised. \n",
    "lab consists of 10 text files where 2 text files have plagiarised.\n",
    "\n",
    "1. Remove the punctuation using a linear replacement and convert the sentences into single lines of\n",
    "text. Also, convert everything to upper or lower case.\n",
    "2. Analyse the files to create a word list (a hashed dictionary) replacing the words with numerical\n",
    "values of the word positions in the list.\n",
    "3. Linked lists are the ideal mechanism for creating this dictionary\n",
    "4. Compare the numerical sentence"
   ]
  },
  {
   "attachments": {},
   "cell_type": "markdown",
   "metadata": {},
   "source": [
    "# FINAL"
   ]
  },
  {
   "cell_type": "code",
   "execution_count": 39,
   "metadata": {},
   "outputs": [
    {
     "data": {
      "application/vnd.plotly.v1+json": {
       "config": {
        "plotlyServerURL": "https://plot.ly"
       },
       "data": [
        {
         "colorscale": [
          [
           0,
           "#440154"
          ],
          [
           0.1111111111111111,
           "#482878"
          ],
          [
           0.2222222222222222,
           "#3e4989"
          ],
          [
           0.3333333333333333,
           "#31688e"
          ],
          [
           0.4444444444444444,
           "#26828e"
          ],
          [
           0.5555555555555556,
           "#1f9e89"
          ],
          [
           0.6666666666666666,
           "#35b779"
          ],
          [
           0.7777777777777778,
           "#6ece58"
          ],
          [
           0.8888888888888888,
           "#b5de2b"
          ],
          [
           1,
           "#fde725"
          ]
         ],
         "type": "heatmap",
         "x": [
          "01.txt",
          "02.txt",
          "03.txt",
          "04.txt",
          "05.txt",
          "06.txt",
          "07.txt",
          "08.txt",
          "09.txt",
          "10.txt"
         ],
         "y": [
          "01.txt",
          "02.txt",
          "03.txt",
          "04.txt",
          "05.txt",
          "06.txt",
          "07.txt",
          "08.txt",
          "09.txt",
          "10.txt"
         ],
         "z": [
          [
           0,
           0.9087744618930247,
           0.8796351670366823,
           0.9097274583094781,
           0.8829362061982061,
           0.8552285267869155,
           0.861694849165148,
           0.900598773556045,
           0.8750261900444274,
           0.8851352664479527
          ],
          [
           0.9087744618930247,
           0,
           0.8986480571030794,
           0.884317351578262,
           0.8382710187351244,
           0.8433929432697098,
           0.8871900418529708,
           0.8820353761822601,
           0.8825862167967338,
           0.8736231360983944
          ],
          [
           0.8796351670366823,
           0.8986480571030794,
           0,
           0.8727042300434423,
           0.8501649461079177,
           0.8701140445746169,
           0.8600851571341733,
           0.8713344979632006,
           0.8783423382423949,
           0.8503600577685692
          ],
          [
           0.9097274583094781,
           0.884317351578262,
           0.8727042300434423,
           0,
           0.8671572697168548,
           0.856401035032935,
           0.8250001089774877,
           0.899657518459101,
           0.8585437393050075,
           0.8938118161412786
          ],
          [
           0.8829362061982061,
           0.8382710187351244,
           0.8501649461079177,
           0.8671572697168548,
           0,
           0.8932425097645902,
           0.7518662902238603,
           0.8697808790056435,
           0.8274136493175637,
           0.8866836209174157
          ],
          [
           0.8552285267869155,
           0.8433929432697098,
           0.8701140445746169,
           0.856401035032935,
           0.8932425097645902,
           0,
           0.7694785805542065,
           0.8538689661059953,
           0.8436647583084391,
           0.8711328709020896
          ],
          [
           0.861694849165148,
           0.8871900418529708,
           0.8600851571341733,
           0.8250001089774877,
           0.7518662902238603,
           0.7694785805542065,
           0,
           0.8425199969139758,
           0.8641368868438493,
           0.8107341623616131
          ],
          [
           0.900598773556045,
           0.8820353761822601,
           0.8713344979632006,
           0.899657518459101,
           0.8697808790056435,
           0.8538689661059953,
           0.8425199969139758,
           0,
           0.8860809998078465,
           0.8895056831967543
          ],
          [
           0.8750261900444274,
           0.8825862167967338,
           0.8783423382423949,
           0.8585437393050075,
           0.8274136493175637,
           0.8436647583084391,
           0.8641368868438493,
           0.8860809998078465,
           0,
           0.8472905397064152
          ],
          [
           0.8851352664479527,
           0.8736231360983944,
           0.8503600577685692,
           0.8938118161412786,
           0.8866836209174157,
           0.8711328709020896,
           0.8107341623616131,
           0.8895056831967543,
           0.8472905397064152,
           0
          ]
         ],
         "zmax": 1,
         "zmin": 0
        }
       ],
       "layout": {
        "coloraxis": {
         "colorbar": {
          "title": {
           "text": "Cosine Similarity"
          }
         }
        },
        "template": {
         "data": {
          "bar": [
           {
            "error_x": {
             "color": "#2a3f5f"
            },
            "error_y": {
             "color": "#2a3f5f"
            },
            "marker": {
             "line": {
              "color": "#E5ECF6",
              "width": 0.5
             },
             "pattern": {
              "fillmode": "overlay",
              "size": 10,
              "solidity": 0.2
             }
            },
            "type": "bar"
           }
          ],
          "barpolar": [
           {
            "marker": {
             "line": {
              "color": "#E5ECF6",
              "width": 0.5
             },
             "pattern": {
              "fillmode": "overlay",
              "size": 10,
              "solidity": 0.2
             }
            },
            "type": "barpolar"
           }
          ],
          "carpet": [
           {
            "aaxis": {
             "endlinecolor": "#2a3f5f",
             "gridcolor": "white",
             "linecolor": "white",
             "minorgridcolor": "white",
             "startlinecolor": "#2a3f5f"
            },
            "baxis": {
             "endlinecolor": "#2a3f5f",
             "gridcolor": "white",
             "linecolor": "white",
             "minorgridcolor": "white",
             "startlinecolor": "#2a3f5f"
            },
            "type": "carpet"
           }
          ],
          "choropleth": [
           {
            "colorbar": {
             "outlinewidth": 0,
             "ticks": ""
            },
            "type": "choropleth"
           }
          ],
          "contour": [
           {
            "colorbar": {
             "outlinewidth": 0,
             "ticks": ""
            },
            "colorscale": [
             [
              0,
              "#0d0887"
             ],
             [
              0.1111111111111111,
              "#46039f"
             ],
             [
              0.2222222222222222,
              "#7201a8"
             ],
             [
              0.3333333333333333,
              "#9c179e"
             ],
             [
              0.4444444444444444,
              "#bd3786"
             ],
             [
              0.5555555555555556,
              "#d8576b"
             ],
             [
              0.6666666666666666,
              "#ed7953"
             ],
             [
              0.7777777777777778,
              "#fb9f3a"
             ],
             [
              0.8888888888888888,
              "#fdca26"
             ],
             [
              1,
              "#f0f921"
             ]
            ],
            "type": "contour"
           }
          ],
          "contourcarpet": [
           {
            "colorbar": {
             "outlinewidth": 0,
             "ticks": ""
            },
            "type": "contourcarpet"
           }
          ],
          "heatmap": [
           {
            "colorbar": {
             "outlinewidth": 0,
             "ticks": ""
            },
            "colorscale": [
             [
              0,
              "#0d0887"
             ],
             [
              0.1111111111111111,
              "#46039f"
             ],
             [
              0.2222222222222222,
              "#7201a8"
             ],
             [
              0.3333333333333333,
              "#9c179e"
             ],
             [
              0.4444444444444444,
              "#bd3786"
             ],
             [
              0.5555555555555556,
              "#d8576b"
             ],
             [
              0.6666666666666666,
              "#ed7953"
             ],
             [
              0.7777777777777778,
              "#fb9f3a"
             ],
             [
              0.8888888888888888,
              "#fdca26"
             ],
             [
              1,
              "#f0f921"
             ]
            ],
            "type": "heatmap"
           }
          ],
          "heatmapgl": [
           {
            "colorbar": {
             "outlinewidth": 0,
             "ticks": ""
            },
            "colorscale": [
             [
              0,
              "#0d0887"
             ],
             [
              0.1111111111111111,
              "#46039f"
             ],
             [
              0.2222222222222222,
              "#7201a8"
             ],
             [
              0.3333333333333333,
              "#9c179e"
             ],
             [
              0.4444444444444444,
              "#bd3786"
             ],
             [
              0.5555555555555556,
              "#d8576b"
             ],
             [
              0.6666666666666666,
              "#ed7953"
             ],
             [
              0.7777777777777778,
              "#fb9f3a"
             ],
             [
              0.8888888888888888,
              "#fdca26"
             ],
             [
              1,
              "#f0f921"
             ]
            ],
            "type": "heatmapgl"
           }
          ],
          "histogram": [
           {
            "marker": {
             "pattern": {
              "fillmode": "overlay",
              "size": 10,
              "solidity": 0.2
             }
            },
            "type": "histogram"
           }
          ],
          "histogram2d": [
           {
            "colorbar": {
             "outlinewidth": 0,
             "ticks": ""
            },
            "colorscale": [
             [
              0,
              "#0d0887"
             ],
             [
              0.1111111111111111,
              "#46039f"
             ],
             [
              0.2222222222222222,
              "#7201a8"
             ],
             [
              0.3333333333333333,
              "#9c179e"
             ],
             [
              0.4444444444444444,
              "#bd3786"
             ],
             [
              0.5555555555555556,
              "#d8576b"
             ],
             [
              0.6666666666666666,
              "#ed7953"
             ],
             [
              0.7777777777777778,
              "#fb9f3a"
             ],
             [
              0.8888888888888888,
              "#fdca26"
             ],
             [
              1,
              "#f0f921"
             ]
            ],
            "type": "histogram2d"
           }
          ],
          "histogram2dcontour": [
           {
            "colorbar": {
             "outlinewidth": 0,
             "ticks": ""
            },
            "colorscale": [
             [
              0,
              "#0d0887"
             ],
             [
              0.1111111111111111,
              "#46039f"
             ],
             [
              0.2222222222222222,
              "#7201a8"
             ],
             [
              0.3333333333333333,
              "#9c179e"
             ],
             [
              0.4444444444444444,
              "#bd3786"
             ],
             [
              0.5555555555555556,
              "#d8576b"
             ],
             [
              0.6666666666666666,
              "#ed7953"
             ],
             [
              0.7777777777777778,
              "#fb9f3a"
             ],
             [
              0.8888888888888888,
              "#fdca26"
             ],
             [
              1,
              "#f0f921"
             ]
            ],
            "type": "histogram2dcontour"
           }
          ],
          "mesh3d": [
           {
            "colorbar": {
             "outlinewidth": 0,
             "ticks": ""
            },
            "type": "mesh3d"
           }
          ],
          "parcoords": [
           {
            "line": {
             "colorbar": {
              "outlinewidth": 0,
              "ticks": ""
             }
            },
            "type": "parcoords"
           }
          ],
          "pie": [
           {
            "automargin": true,
            "type": "pie"
           }
          ],
          "scatter": [
           {
            "fillpattern": {
             "fillmode": "overlay",
             "size": 10,
             "solidity": 0.2
            },
            "type": "scatter"
           }
          ],
          "scatter3d": [
           {
            "line": {
             "colorbar": {
              "outlinewidth": 0,
              "ticks": ""
             }
            },
            "marker": {
             "colorbar": {
              "outlinewidth": 0,
              "ticks": ""
             }
            },
            "type": "scatter3d"
           }
          ],
          "scattercarpet": [
           {
            "marker": {
             "colorbar": {
              "outlinewidth": 0,
              "ticks": ""
             }
            },
            "type": "scattercarpet"
           }
          ],
          "scattergeo": [
           {
            "marker": {
             "colorbar": {
              "outlinewidth": 0,
              "ticks": ""
             }
            },
            "type": "scattergeo"
           }
          ],
          "scattergl": [
           {
            "marker": {
             "colorbar": {
              "outlinewidth": 0,
              "ticks": ""
             }
            },
            "type": "scattergl"
           }
          ],
          "scattermapbox": [
           {
            "marker": {
             "colorbar": {
              "outlinewidth": 0,
              "ticks": ""
             }
            },
            "type": "scattermapbox"
           }
          ],
          "scatterpolar": [
           {
            "marker": {
             "colorbar": {
              "outlinewidth": 0,
              "ticks": ""
             }
            },
            "type": "scatterpolar"
           }
          ],
          "scatterpolargl": [
           {
            "marker": {
             "colorbar": {
              "outlinewidth": 0,
              "ticks": ""
             }
            },
            "type": "scatterpolargl"
           }
          ],
          "scatterternary": [
           {
            "marker": {
             "colorbar": {
              "outlinewidth": 0,
              "ticks": ""
             }
            },
            "type": "scatterternary"
           }
          ],
          "surface": [
           {
            "colorbar": {
             "outlinewidth": 0,
             "ticks": ""
            },
            "colorscale": [
             [
              0,
              "#0d0887"
             ],
             [
              0.1111111111111111,
              "#46039f"
             ],
             [
              0.2222222222222222,
              "#7201a8"
             ],
             [
              0.3333333333333333,
              "#9c179e"
             ],
             [
              0.4444444444444444,
              "#bd3786"
             ],
             [
              0.5555555555555556,
              "#d8576b"
             ],
             [
              0.6666666666666666,
              "#ed7953"
             ],
             [
              0.7777777777777778,
              "#fb9f3a"
             ],
             [
              0.8888888888888888,
              "#fdca26"
             ],
             [
              1,
              "#f0f921"
             ]
            ],
            "type": "surface"
           }
          ],
          "table": [
           {
            "cells": {
             "fill": {
              "color": "#EBF0F8"
             },
             "line": {
              "color": "white"
             }
            },
            "header": {
             "fill": {
              "color": "#C8D4E3"
             },
             "line": {
              "color": "white"
             }
            },
            "type": "table"
           }
          ]
         },
         "layout": {
          "annotationdefaults": {
           "arrowcolor": "#2a3f5f",
           "arrowhead": 0,
           "arrowwidth": 1
          },
          "autotypenumbers": "strict",
          "coloraxis": {
           "colorbar": {
            "outlinewidth": 0,
            "ticks": ""
           }
          },
          "colorscale": {
           "diverging": [
            [
             0,
             "#8e0152"
            ],
            [
             0.1,
             "#c51b7d"
            ],
            [
             0.2,
             "#de77ae"
            ],
            [
             0.3,
             "#f1b6da"
            ],
            [
             0.4,
             "#fde0ef"
            ],
            [
             0.5,
             "#f7f7f7"
            ],
            [
             0.6,
             "#e6f5d0"
            ],
            [
             0.7,
             "#b8e186"
            ],
            [
             0.8,
             "#7fbc41"
            ],
            [
             0.9,
             "#4d9221"
            ],
            [
             1,
             "#276419"
            ]
           ],
           "sequential": [
            [
             0,
             "#0d0887"
            ],
            [
             0.1111111111111111,
             "#46039f"
            ],
            [
             0.2222222222222222,
             "#7201a8"
            ],
            [
             0.3333333333333333,
             "#9c179e"
            ],
            [
             0.4444444444444444,
             "#bd3786"
            ],
            [
             0.5555555555555556,
             "#d8576b"
            ],
            [
             0.6666666666666666,
             "#ed7953"
            ],
            [
             0.7777777777777778,
             "#fb9f3a"
            ],
            [
             0.8888888888888888,
             "#fdca26"
            ],
            [
             1,
             "#f0f921"
            ]
           ],
           "sequentialminus": [
            [
             0,
             "#0d0887"
            ],
            [
             0.1111111111111111,
             "#46039f"
            ],
            [
             0.2222222222222222,
             "#7201a8"
            ],
            [
             0.3333333333333333,
             "#9c179e"
            ],
            [
             0.4444444444444444,
             "#bd3786"
            ],
            [
             0.5555555555555556,
             "#d8576b"
            ],
            [
             0.6666666666666666,
             "#ed7953"
            ],
            [
             0.7777777777777778,
             "#fb9f3a"
            ],
            [
             0.8888888888888888,
             "#fdca26"
            ],
            [
             1,
             "#f0f921"
            ]
           ]
          },
          "colorway": [
           "#636efa",
           "#EF553B",
           "#00cc96",
           "#ab63fa",
           "#FFA15A",
           "#19d3f3",
           "#FF6692",
           "#B6E880",
           "#FF97FF",
           "#FECB52"
          ],
          "font": {
           "color": "#2a3f5f"
          },
          "geo": {
           "bgcolor": "white",
           "lakecolor": "white",
           "landcolor": "#E5ECF6",
           "showlakes": true,
           "showland": true,
           "subunitcolor": "white"
          },
          "hoverlabel": {
           "align": "left"
          },
          "hovermode": "closest",
          "mapbox": {
           "style": "light"
          },
          "paper_bgcolor": "white",
          "plot_bgcolor": "#E5ECF6",
          "polar": {
           "angularaxis": {
            "gridcolor": "white",
            "linecolor": "white",
            "ticks": ""
           },
           "bgcolor": "#E5ECF6",
           "radialaxis": {
            "gridcolor": "white",
            "linecolor": "white",
            "ticks": ""
           }
          },
          "scene": {
           "xaxis": {
            "backgroundcolor": "#E5ECF6",
            "gridcolor": "white",
            "gridwidth": 2,
            "linecolor": "white",
            "showbackground": true,
            "ticks": "",
            "zerolinecolor": "white"
           },
           "yaxis": {
            "backgroundcolor": "#E5ECF6",
            "gridcolor": "white",
            "gridwidth": 2,
            "linecolor": "white",
            "showbackground": true,
            "ticks": "",
            "zerolinecolor": "white"
           },
           "zaxis": {
            "backgroundcolor": "#E5ECF6",
            "gridcolor": "white",
            "gridwidth": 2,
            "linecolor": "white",
            "showbackground": true,
            "ticks": "",
            "zerolinecolor": "white"
           }
          },
          "shapedefaults": {
           "line": {
            "color": "#2a3f5f"
           }
          },
          "ternary": {
           "aaxis": {
            "gridcolor": "white",
            "linecolor": "white",
            "ticks": ""
           },
           "baxis": {
            "gridcolor": "white",
            "linecolor": "white",
            "ticks": ""
           },
           "bgcolor": "#E5ECF6",
           "caxis": {
            "gridcolor": "white",
            "linecolor": "white",
            "ticks": ""
           }
          },
          "title": {
           "x": 0.05
          },
          "xaxis": {
           "automargin": true,
           "gridcolor": "white",
           "linecolor": "white",
           "ticks": "",
           "title": {
            "standoff": 15
           },
           "zerolinecolor": "white",
           "zerolinewidth": 2
          },
          "yaxis": {
           "automargin": true,
           "gridcolor": "white",
           "linecolor": "white",
           "ticks": "",
           "title": {
            "standoff": 15
           },
           "zerolinecolor": "white",
           "zerolinewidth": 2
          }
         }
        },
        "xaxis": {
         "title": {
          "text": "File 1"
         }
        },
        "yaxis": {
         "title": {
          "text": "File 2"
         }
        }
       }
      }
     },
     "metadata": {},
     "output_type": "display_data"
    }
   ],
   "source": [
    "import os\n",
    "import string\n",
    "import itertools\n",
    "import re\n",
    "import plotly.graph_objects as go\n",
    "from nltk.tokenize import sent_tokenize\n",
    "\n",
    "\n",
    "def find_lcs(sentence1, sentence2):\n",
    "    \"\"\"Find the longest common substring between two sentences\"\"\"\n",
    "    words1 = sentence1.split()\n",
    "    words2 = sentence2.split()\n",
    "    lcs = ''\n",
    "    len_lcs = 0\n",
    "    dp = [[0] * (len(words2) + 1) for _ in range(len(words1) + 1)]\n",
    "\n",
    "    for k in range(1, len(words1) + 1):\n",
    "        for l in range(1, len(words2) + 1):\n",
    "            if words1[k - 1] == words2[l - 1]:\n",
    "                dp[k][l] = dp[k - 1][l - 1] + 1\n",
    "                if dp[k][l] > len_lcs:\n",
    "                    len_lcs = dp[k][l]\n",
    "                    lcs = ' '.join(words1[k - len_lcs:k])\n",
    "    return lcs, len_lcs\n",
    "\n",
    "\n",
    "def plot_heatmap(texts):\n",
    "    \"\"\"Create a heatmap of the length of LCS between all pairs of texts\"\"\"\n",
    "    # Initialize the heatmap matrix\n",
    "    heatmap = [[0] * len(texts) for _ in range(len(texts))]\n",
    "\n",
    "    # Create/open a file to write the output\n",
    "    with open('plagiarism_output.txt', 'w') as f:\n",
    "        # Iterate through all unique pairs of texts to find plagiarized sections\n",
    "        for text1, text2 in itertools.combinations(texts, 2):\n",
    "            # Split the texts into sentences\n",
    "            sentences1 = sent_tokenize(text1[1])\n",
    "            sentences2 = sent_tokenize(text2[1])\n",
    "            outputTexts = []\n",
    "            # Iterate through all pairs of sentences to find matching sentences\n",
    "            for sentence1 in sentences1:\n",
    "                for sentence2 in sentences2:\n",
    "                    # Find the longest common substring between the two sentences\n",
    "                    lcs, len_lcs = find_lcs(sentence1, sentence2)\n",
    "\n",
    "                    # Update the heatmap matrix and write plagiarized content to the file\n",
    "                    if lcs:\n",
    "                        heatmap[text1[0] - 1][text2[0] - 1] = len_lcs\n",
    "                        heatmap[text2[0] - 1][text1[0] - 1] = len_lcs\n",
    "                        f.write(f'Plagiarized content found between {text1[0]:02}.txt and {text2[0]:02}.txt, matching sentence: \"{lcs}\"\\n')\n",
    "\n",
    "    # Define the x and y axis labels\n",
    "    labels = [f\"{i:02}.txt\" for i in range(1, len(texts) + 1)]\n",
    "\n",
    "    # Define the figure and the heatmap trace\n",
    "    fig = go.Figure(data=go.Heatmap(z=heatmap, x=labels, y=labels))\n",
    "\n",
    "    # Add colorbar title and axis labels\n",
    "    fig.update_layout(coloraxis=dict(colorbar=dict(title=\"Length of LCS\")),\n",
    "                      xaxis=dict(title=\"File 1\"),\n",
    "                      yaxis=dict(title=\"File 2\"))\n",
    "\n",
    "    # Show the plot\n",
    "    fig.show()\n",
    "\n",
    "\n",
    "\n",
    "\n",
    "# Define the path to the directory containing the files\n",
    "path = \"Lab3.2\"\n",
    "\n",
    "# Read the contents of each file and store them in texts\n",
    "texts = []\n",
    "for i in range(1, 11):\n",
    "    filepath = os.path.join(path, f\"{i:02}.txt\")\n",
    "    with open(filepath, 'r') as f:\n",
    "        text = f.read().lower().translate(str.maketrans('', '', string.punctuation)).replace('\\n', ' ')\n",
    "    texts.append((i, text))\n",
    "\n",
    "# Plot the heatmap\n",
    "plot_heatmap(texts)\n",
    "\n"
   ]
  },
  {
   "cell_type": "code",
   "execution_count": null,
   "metadata": {},
   "outputs": [],
   "source": []
  },
  {
   "attachments": {},
   "cell_type": "markdown",
   "metadata": {},
   "source": [
    "## function definitions"
   ]
  },
  {
   "cell_type": "code",
   "execution_count": 43,
   "metadata": {},
   "outputs": [],
   "source": [
    "import os\n",
    "import string\n",
    "import itertools\n",
    "import numpy as np\n",
    "from sklearn.feature_extraction.text import TfidfVectorizer\n",
    "from sklearn.metrics.pairwise import cosine_similarity\n",
    "import plotly.graph_objects as go\n",
    "from nltk.tokenize import sent_tokenize\n",
    "\n",
    "\n",
    "def find_lcs(sentence1, sentence2):\n",
    "    \"\"\"Find the longest common substring between two sentences\"\"\"\n",
    "    words1 = sentence1.split()\n",
    "    words2 = sentence2.split()\n",
    "    lcs = ''\n",
    "    len_lcs = 0\n",
    "    dp = [[0] * (len(words2) + 1) for _ in range(len(words1) + 1)]\n",
    "\n",
    "    for k in range(1, len(words1) + 1):\n",
    "        for l in range(1, len(words2) + 1):\n",
    "            if words1[k - 1] == words2[l - 1]:\n",
    "                dp[k][l] = dp[k - 1][l - 1] + 1\n",
    "                if dp[k][l] > len_lcs:\n",
    "                    len_lcs = dp[k][l]\n",
    "                    lcs = ' '.join(words1[k - len_lcs:k])\n",
    "    return lcs, len_lcs\n",
    "\n",
    "\n",
    "def compute_cosine_similarity(text1, text2):\n",
    "    \"\"\"Compute the cosine similarity between two texts\"\"\"\n",
    "    vectorizer = TfidfVectorizer().fit_transform([text1, text2])\n",
    "    vectors = vectorizer.toarray()\n",
    "    csim = cosine_similarity(vectors)\n",
    "    return csim[0, 1]\n",
    "\n",
    "\n",
    "def plot_heatmap(texts):\n",
    "    \"\"\"Create a heatmap of the length of LCS between all pairs of texts\"\"\"\n",
    "    # Initialize the heatmap matrix\n",
    "    heatmap = [[0] * len(texts) for _ in range(len(texts))]\n",
    "\n",
    "    # Create/open a file to write the output\n",
    "    with open('plagiarism_output.txt', 'w') as f:\n",
    "        # Iterate through all unique pairs of texts to find plagiarized sections\n",
    "        for text1, text2 in itertools.combinations(texts, 2):\n",
    "            # Split the texts into sentences\n",
    "            sentences1 = sent_tokenize(text1[1])\n",
    "            sentences2 = sent_tokenize(text2[1])\n",
    "            # Iterate through all pairs of sentences to find matching sentences\n",
    "            for sentence1 in sentences1:\n",
    "                for sentence2 in sentences2:\n",
    "                    # Find the longest common substring between the two sentences\n",
    "                    lcs, len_lcs = find_lcs(sentence1, sentence2)\n",
    "\n",
    "                    # Update the heatmap matrix and write plagiarized content to the file\n",
    "                    if lcs:\n",
    "                        heatmap[text1[0] - 1][text2[0] - 1] = len_lcs\n",
    "                        heatmap[text2[0] - 1][text1[0] - 1] = len_lcs\n",
    "                        f.write(f'Plagiarized content found between {text1[0]:02}.txt and {text2[0]:02}.txt, matching sentence: \"{lcs}\"\\n')\n",
    "\n",
    "    # Define the x and y axis labels\n",
    "    labels = [f\"{i:02}.txt\" for i in range(1, len(texts) + 1)]\n",
    "\n",
    "    # Define the figure and the heatmap trace\n",
    "    fig = go.Figure(data=go.Heatmap(z=heatmap, x=labels, y=labels))\n",
    "\n",
    "    # Add colorbar title and axis labels\n",
    "    fig.update_layout(coloraxis=dict(colorbar=dict(title=\"Length of LCS\")),\n",
    "                      xaxis=dict(title=\"File 1\"),\n",
    "                      yaxis=dict(title=\"File 2\"))\n",
    "\n",
    "    # Show the plot\n",
    "    fig.show()\n",
    "\n",
    "\n",
    "def plot_cosine_similarity_heatmap(texts):\n",
    "    \"\"\"Create a heatmap of the cosine similarity between all pairs of texts\"\"\"\n",
    "    # Initialize the heatmap matrix\n",
    "    heatmap = [[0] * len(texts) for _ in range(len(texts))]\n",
    "\n",
    "    # Iterate through all unique pairs of texts to compute cosine similarity\n",
    "    for i in range(len(texts)):\n",
    "        for j in range(i+1, len(texts)):\n",
    "            # Compute the cosine similarity\n",
    "            csim = compute_cosine_similarity(texts[i][1], texts[j][1])\n",
    "\n",
    "            # Update the heatmap matrix\n",
    "            heatmap[i][j] = csim\n",
    "            heatmap[j][i] = csim\n",
    "\n",
    "    # Define the x and y axis labels\n",
    "    labels = [f\"{i:02}.txt\" for i in range(1, len(texts) + 1)]\n",
    "\n",
    "    # Define the figure and the heatmap trace\n",
    "    fig = go.Figure(data=go.Heatmap(z=heatmap, x=labels, y=labels, zmin=0, zmax=1, colorscale='Viridis'))\n",
    "\n",
    "    # Add colorbar title and axis labels\n",
    "    fig.update_layout(coloraxis=dict(colorbar=dict(title=\"Cosine Similarity\")),\n",
    "                      xaxis=dict(title=\"File 1\"),\n",
    "                      yaxis=dict(title=\"File 2\"))\n",
    "    # Show the plot\n",
    "    fig.show()\n",
    "\n",
    "def loadText(path):\n",
    "    texts = []\n",
    "    for i in range(1, 11):\n",
    "        filepath = os.path.join(path, f\"{i:02}.txt\")\n",
    "        with open(filepath, 'r') as f:\n",
    "            text = f.read().lower().translate(str.maketrans('', '', string.punctuation)).replace('\\n', ' ')\n",
    "        texts.append((i, text))\n",
    "    return texts"
   ]
  },
  {
   "cell_type": "code",
   "execution_count": 42,
   "metadata": {},
   "outputs": [
    {
     "ename": "NameError",
     "evalue": "name 'loadText' is not defined",
     "output_type": "error",
     "traceback": [
      "\u001b[0;31m---------------------------------------------------------------------------\u001b[0m",
      "\u001b[0;31mNameError\u001b[0m                                 Traceback (most recent call last)",
      "Cell \u001b[0;32mIn[42], line 7\u001b[0m\n\u001b[1;32m      4\u001b[0m \u001b[39m# Read the contents of each file and store them in texts\u001b[39;00m\n\u001b[1;32m      5\u001b[0m texts \u001b[39m=\u001b[39m []\n\u001b[0;32m----> 7\u001b[0m texts \u001b[39m=\u001b[39m loadText(path)\n\u001b[1;32m      8\u001b[0m \u001b[39m# Plot the LCS heatmap\u001b[39;00m\n\u001b[1;32m      9\u001b[0m plot_heatmap(texts)\n",
      "\u001b[0;31mNameError\u001b[0m: name 'loadText' is not defined"
     ]
    }
   ],
   "source": [
    "\n",
    "\n",
    "\n",
    "# Define the path to the directory containing the files\n",
    "path = \"Lab3.2\"\n",
    "\n",
    "# Read the contents of each file and store them in texts\n",
    "texts = []\n",
    "\n",
    "texts = loadText(path)\n",
    "# Plot the LCS heatmap\n",
    "plot_heatmap(texts)\n",
    "\n",
    "# Plot the cosine similarity heatmap\n",
    "plot_cosine_similarity_heatmap(texts)\n"
   ]
  },
  {
   "cell_type": "markdown",
   "metadata": {},
   "source": []
  }
 ],
 "metadata": {
  "kernelspec": {
   "display_name": "Python 3",
   "language": "python",
   "name": "python3"
  },
  "language_info": {
   "codemirror_mode": {
    "name": "ipython",
    "version": 3
   },
   "file_extension": ".py",
   "mimetype": "text/x-python",
   "name": "python",
   "nbconvert_exporter": "python",
   "pygments_lexer": "ipython3",
   "version": "3.10.6"
  },
  "orig_nbformat": 4,
  "vscode": {
   "interpreter": {
    "hash": "aee8b7b246df8f9039afb4144a1f6fd8d2ca17a180786b69acc140d282b71a49"
   }
  }
 },
 "nbformat": 4,
 "nbformat_minor": 2
}
