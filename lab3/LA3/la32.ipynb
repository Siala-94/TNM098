{
 "cells": [
  {
   "attachments": {},
   "cell_type": "markdown",
   "metadata": {},
   "source": [
    "# Task 2\n",
    "comparing text to see what text is plagiarised. \n",
    "lab consists of 10 text files where 2 text files have plagiarised.\n",
    "\n",
    "1. Remove the punctuation using a linear replacement and convert the sentences into single lines of\n",
    "text. Also, convert everything to upper or lower case.\n",
    "2. Analyse the files to create a word list (a hashed dictionary) replacing the words with numerical\n",
    "values of the word positions in the list.\n",
    "3. Linked lists are the ideal mechanism for creating this dictionary\n",
    "4. Compare the numerical sentence"
   ]
  },
  {
   "cell_type": "code",
   "execution_count": 1,
   "metadata": {},
   "outputs": [
    {
     "name": "stdout",
     "output_type": "stream",
     "text": [
      "Plagiarized content found between 2.txt and 6.txt, matching sentence:\n",
      "over 195 poundsa good deal of it around the middle\n",
      "\n",
      "Plagiarized content found between 2.txt and 8.txt, matching sentence:\n",
      "out of the house for having come without my invitation\n",
      "\n"
     ]
    }
   ],
   "source": [
    "import os\n",
    "import string\n",
    "\n",
    "# Define the path to the directory containing the files\n",
    "path = \"Lab3.2\"\n",
    "texts = []\n",
    "\n",
    "# Loop through all 10 files\n",
    "for i in range(1, 11):\n",
    "    # Create the filename\n",
    "    filename = os.path.join(path, f\"{i:02}.txt\")  # uses zero-padding for single digit numbers\n",
    "    \n",
    "    # Open the file and read its contents\n",
    "    with open(filename, \"r\") as file:\n",
    "        # Add the contents to the list of texts\n",
    "        contents = file.read()\n",
    "    \n",
    "    # Remove punctuation, convert to lowercase, and convert each sentence to a single line of text\n",
    "    contents = contents.translate(str.maketrans('', '', string.punctuation))\n",
    "    contents = contents.lower()\n",
    "    contents = contents.replace('\\n', ' ')\n",
    "    \n",
    "    # Add the contents to the list of texts\n",
    "    texts.append((i, contents))\n",
    "\n",
    "# Iterate through all pairs of texts to find plagiarized sections\n",
    "for i in range(len(texts)):\n",
    "    for j in range(i+1, len(texts)):\n",
    "        # Split the texts into sentences\n",
    "        sentences1 = texts[i][1].split('.')\n",
    "        sentences2 = texts[j][1].split('.')\n",
    "        \n",
    "        # Iterate through all pairs of sentences to find matching sentences\n",
    "        for sentence1 in sentences1:\n",
    "            for sentence2 in sentences2:\n",
    "                # Find the longest common sentence of words between the two texts\n",
    "                words1 = sentence1.split()\n",
    "                words2 = sentence2.split()\n",
    "                lcs = ''\n",
    "                for k in range(len(words1)):\n",
    "                    if words1[k:k+10] in [words2[l:l+10] for l in range(len(words2)-10)]:\n",
    "                        lcs = ' '.join(words1[k:k+10])\n",
    "                \n",
    "                if lcs:\n",
    "                    # Print the plagiarized sentence and the matching files to the console\n",
    "                    print(f\"Plagiarized content found between {texts[i][0]}.txt and {texts[j][0]}.txt, matching sentence:\\n{lcs}\\n\")\n"
   ]
  }
 ],
 "metadata": {
  "kernelspec": {
   "display_name": "Python 3",
   "language": "python",
   "name": "python3"
  },
  "language_info": {
   "codemirror_mode": {
    "name": "ipython",
    "version": 3
   },
   "file_extension": ".py",
   "mimetype": "text/x-python",
   "name": "python",
   "nbconvert_exporter": "python",
   "pygments_lexer": "ipython3",
   "version": "3.10.6"
  },
  "orig_nbformat": 4,
  "vscode": {
   "interpreter": {
    "hash": "aee8b7b246df8f9039afb4144a1f6fd8d2ca17a180786b69acc140d282b71a49"
   }
  }
 },
 "nbformat": 4,
 "nbformat_minor": 2
}
